{
 "cells": [
  {
   "cell_type": "markdown",
   "id": "a4616e6e",
   "metadata": {},
   "source": [
    "### Kütüphaneleri Yükle"
   ]
  },
  {
   "cell_type": "code",
   "execution_count": 1,
   "id": "e91b0f5d",
   "metadata": {},
   "outputs": [],
   "source": [
    "import cv2\n",
    "from matplotlib import pyplot as plt"
   ]
  },
  {
   "cell_type": "code",
   "execution_count": null,
   "id": "5a931236",
   "metadata": {},
   "outputs": [],
   "source": [
    "TomAndJerry= cv2.imread(\"Data/TomAndJerry.png\") \n",
    "TomAndJerry_gray = cv2.cvtColor(TomAndJerry, cv2.COLOR_BGR2GRAY) \n",
    "TomAndJerryArkaPlan = cv2.imread(\"Data/TomAndJerryArkaPlan.png\")\n",
    "\n",
    "cv2.imshow('Tom and Jerry', TomAndJerry ) \n",
    "cv2.imshow('TomAndJerryArkaPlan', TomAndJerryArkaPlan) \n",
    "cv2.waitKey(0)\n",
    "cv2.destroyAllWindows()"
   ]
  },
  {
   "cell_type": "code",
   "execution_count": 25,
   "id": "b7de75dd",
   "metadata": {},
   "outputs": [
    {
     "data": {
      "text/plain": [
       "(193, 352, 3)"
      ]
     },
     "execution_count": 25,
     "metadata": {},
     "output_type": "execute_result"
    }
   ],
   "source": [
    "TomAndJerry.shape"
   ]
  },
  {
   "cell_type": "code",
   "execution_count": 26,
   "id": "b9a16c20",
   "metadata": {},
   "outputs": [
    {
     "data": {
      "text/plain": [
       "(193, 352, 3)"
      ]
     },
     "execution_count": 26,
     "metadata": {},
     "output_type": "execute_result"
    }
   ],
   "source": [
    "TomAndJerryArkaPlan.shape"
   ]
  },
  {
   "cell_type": "code",
   "execution_count": 58,
   "id": "10f97399",
   "metadata": {},
   "outputs": [],
   "source": [
    "ret, mask = cv2.threshold( TomAndJerry_gray, 50, 255, cv2.THRESH_BINARY)"
   ]
  },
  {
   "cell_type": "code",
   "execution_count": 59,
   "id": "2d8f9935",
   "metadata": {},
   "outputs": [],
   "source": [
    "cv2.imshow(\"Mask\", mask)\n",
    "cv2.waitKey(0) \n",
    "cv2.destroyAllWindows()"
   ]
  },
  {
   "cell_type": "code",
   "execution_count": 60,
   "id": "da18b1eb",
   "metadata": {},
   "outputs": [],
   "source": [
    "mask_inv = cv2.bitwise_not(mask)"
   ]
  },
  {
   "cell_type": "code",
   "execution_count": 61,
   "id": "7fef41a3",
   "metadata": {},
   "outputs": [
    {
     "data": {
      "text/plain": [
       "array([[255, 255, 255, ..., 255, 255,   0],\n",
       "       [255, 255, 255, ..., 255, 255,   0],\n",
       "       [  0,   0,   0, ...,   0,   0,   0],\n",
       "       ...,\n",
       "       [  0,   0,   0, ...,   0,   0,   0],\n",
       "       [  0,   0,   0, ...,   0,   0,   0],\n",
       "       [255, 255, 255, ..., 255, 255, 255]], dtype=uint8)"
      ]
     },
     "execution_count": 61,
     "metadata": {},
     "output_type": "execute_result"
    }
   ],
   "source": [
    "mask"
   ]
  },
  {
   "cell_type": "code",
   "execution_count": 62,
   "id": "c2e70341",
   "metadata": {},
   "outputs": [
    {
     "data": {
      "text/plain": [
       "array([[  0,   0,   0, ...,   0,   0, 255],\n",
       "       [  0,   0,   0, ...,   0,   0, 255],\n",
       "       [255, 255, 255, ..., 255, 255, 255],\n",
       "       ...,\n",
       "       [255, 255, 255, ..., 255, 255, 255],\n",
       "       [255, 255, 255, ..., 255, 255, 255],\n",
       "       [  0,   0,   0, ...,   0,   0,   0]], dtype=uint8)"
      ]
     },
     "execution_count": 62,
     "metadata": {},
     "output_type": "execute_result"
    }
   ],
   "source": [
    "mask_inv"
   ]
  },
  {
   "cell_type": "code",
   "execution_count": 63,
   "id": "afe54b3b",
   "metadata": {},
   "outputs": [],
   "source": [
    "cv2.imshow('Mask Inverse', mask_inv)\n",
    "cv2.waitKey(0)\n",
    "cv2.destroyAllWindows()\n"
   ]
  },
  {
   "cell_type": "code",
   "execution_count": 64,
   "id": "ae3e77a9",
   "metadata": {},
   "outputs": [],
   "source": [
    "fg = cv2.bitwise_and(TomAndJerry,TomAndJerry , mask = mask)"
   ]
  },
  {
   "cell_type": "code",
   "execution_count": 65,
   "id": "325f2fa0",
   "metadata": {},
   "outputs": [],
   "source": [
    "cv2.imshow('Final Image', fg) \n",
    "cv2.waitKey(0) \n",
    "cv2.destroyAllWindows()"
   ]
  },
  {
   "cell_type": "code",
   "execution_count": 66,
   "id": "11ec4633",
   "metadata": {},
   "outputs": [],
   "source": [
    "bg = cv2.bitwise_and(TomAndJerryArkaPlan, TomAndJerryArkaPlan, mask=mask_inv)"
   ]
  },
  {
   "cell_type": "code",
   "execution_count": 71,
   "id": "0016be0b",
   "metadata": {},
   "outputs": [],
   "source": [
    "cv2.imshow('Final Image', bg) \n",
    "cv2.waitKey(0) \n",
    "cv2.destroyAllWindows()"
   ]
  },
  {
   "cell_type": "code",
   "execution_count": 72,
   "id": "23d49530",
   "metadata": {},
   "outputs": [],
   "source": [
    "new_image = cv2.add(fg, bg)\n",
    "\n",
    "cv2.imshow('Final Image', new_image)\n",
    "cv2.imwrite('finalimage.png', new_image)\n",
    "cv2.waitKey(0)\n",
    "cv2.destroyAllWindows()"
   ]
  },
  {
   "cell_type": "code",
   "execution_count": null,
   "id": "c1d58a3c",
   "metadata": {},
   "outputs": [],
   "source": []
  }
 ],
 "metadata": {
  "kernelspec": {
   "display_name": "Python 3 (ipykernel)",
   "language": "python",
   "name": "python3"
  },
  "language_info": {
   "codemirror_mode": {
    "name": "ipython",
    "version": 3
   },
   "file_extension": ".py",
   "mimetype": "text/x-python",
   "name": "python",
   "nbconvert_exporter": "python",
   "pygments_lexer": "ipython3",
   "version": "3.9.7"
  }
 },
 "nbformat": 4,
 "nbformat_minor": 5
}
